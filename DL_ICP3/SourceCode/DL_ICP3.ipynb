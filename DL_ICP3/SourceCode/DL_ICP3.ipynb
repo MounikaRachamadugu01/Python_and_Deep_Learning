{
  "nbformat": 4,
  "nbformat_minor": 0,
  "metadata": {
    "colab": {
      "name": "DL_ICP3.ipynb",
      "provenance": []
    },
    "kernelspec": {
      "name": "python3",
      "display_name": "Python 3"
    }
  },
  "cells": [
    {
      "cell_type": "code",
      "metadata": {
        "id": "0LHYRja3hPWX",
        "colab_type": "code",
        "colab": {
          "base_uri": "https://localhost:8080/",
          "height": 340
        },
        "outputId": "d0c48d15-fd65-4656-a59e-e08c84a67efa"
      },
      "source": [
        "from keras.models import Sequential\n",
        "from keras import layers\n",
        "from keras.preprocessing.text import Tokenizer\n",
        "from keras.preprocessing.sequence import pad_sequences\n",
        "import pandas as pd\n",
        "from sklearn import preprocessing\n",
        "from sklearn.model_selection import train_test_split\n",
        "import numpy as np\n",
        "\n",
        "# reading data\n",
        "df = pd.read_csv('imdb_master.csv', encoding='latin-1')\n",
        "print(df.head())\n",
        "sentences = df['review'].values\n",
        "y = df['label'].values\n",
        "\n",
        "\n",
        "# Applying tokenization on the data\n",
        "tokenizer = Tokenizer(num_words=2000)\n",
        "tokenizer.fit_on_texts(sentences)\n",
        "# Getting the vocabulary of data\n",
        "sentences = tokenizer.texts_to_matrix(sentences)\n",
        "\n",
        "le = preprocessing.LabelEncoder()\n",
        "y = le.fit_transform(y)\n",
        "X_train, X_test, y_train, y_test = train_test_split(sentences, y, test_size=0.25, random_state=1000)\n",
        "input_dim=np.prod(X_train.shape[1:]) # defining input_dim\n",
        "\n",
        "# Number of features\n",
        "# print(input_dim)\n",
        "model = Sequential()\n",
        "model.add(layers.Dense(300, input_dim= input_dim, activation='relu'))\n",
        "# Changing no. of neurons to three and activation function as softmax for output layer                                              \n",
        "model.add(layers.Dense(3, activation='softmax')) \n",
        "model.compile(loss='sparse_categorical_crossentropy',optimizer='adam',metrics=['acc'])\n",
        "history=model.fit(X_train,y_train, epochs=5, verbose=True, validation_data=(X_test,y_test), batch_size=256)"
      ],
      "execution_count": 2,
      "outputs": [
        {
          "output_type": "stream",
          "text": [
            "   Unnamed: 0  type  ... label         file\n",
            "0           0  test  ...   neg      0_2.txt\n",
            "1           1  test  ...   neg  10000_4.txt\n",
            "2           2  test  ...   neg  10001_1.txt\n",
            "3           3  test  ...   neg  10002_3.txt\n",
            "4           4  test  ...   neg  10003_3.txt\n",
            "\n",
            "[5 rows x 5 columns]\n",
            "Train on 75000 samples, validate on 25000 samples\n",
            "Epoch 1/5\n",
            "75000/75000 [==============================] - 9s 114us/step - loss: 0.8850 - acc: 0.5041 - val_loss: 0.8427 - val_acc: 0.5173\n",
            "Epoch 2/5\n",
            "75000/75000 [==============================] - 8s 101us/step - loss: 0.7900 - acc: 0.5803 - val_loss: 0.8453 - val_acc: 0.5179\n",
            "Epoch 3/5\n",
            "75000/75000 [==============================] - 8s 106us/step - loss: 0.6814 - acc: 0.6850 - val_loss: 0.8807 - val_acc: 0.5032\n",
            "Epoch 4/5\n",
            "75000/75000 [==============================] - 8s 104us/step - loss: 0.4879 - acc: 0.8218 - val_loss: 0.9614 - val_acc: 0.5132\n",
            "Epoch 5/5\n",
            "75000/75000 [==============================] - 8s 109us/step - loss: 0.2811 - acc: 0.9280 - val_loss: 1.0769 - val_acc: 0.5064\n"
          ],
          "name": "stdout"
        }
      ]
    },
    {
      "cell_type": "code",
      "metadata": {
        "id": "waVk4xYWSk7K",
        "colab_type": "code",
        "colab": {
          "base_uri": "https://localhost:8080/",
          "height": 51
        },
        "outputId": "db5b07f6-44fc-4406-c08f-25f8ec19edcb"
      },
      "source": [
        "[test_loss, test_acc] = model.evaluate(X_test,y_test)\n",
        "print(\"Evaluation result on Test Data : Loss = {}, accuracy = {}\".format(test_loss, test_acc))"
      ],
      "execution_count": 3,
      "outputs": [
        {
          "output_type": "stream",
          "text": [
            "25000/25000 [==============================] - 2s 62us/step\n",
            "Evaluation result on Test Data : Loss = 1.0768925746154785, accuracy = 0.5063599944114685\n"
          ],
          "name": "stdout"
        }
      ]
    },
    {
      "cell_type": "code",
      "metadata": {
        "id": "RPglnaNfmpEg",
        "colab_type": "code",
        "colab": {
          "base_uri": "https://localhost:8080/",
          "height": 295
        },
        "outputId": "5e995eab-5acb-4851-d8e7-a6bf74b0c6db"
      },
      "source": [
        "# Plotting loss and accuracy using history object\n",
        "import matplotlib.pyplot as plt\n",
        "plt.plot(history.history['acc'])\n",
        "plt.plot(history.history['val_acc'])\n",
        "plt.plot(history.history['loss'])\n",
        "plt.plot(history.history['val_loss'])\n",
        "plt.title('model accuracy')\n",
        "plt.ylabel('accuracy')\n",
        "plt.xlabel('epoch')\n",
        "plt.legend(['accuray', 'validation accuracy','loss','validation loss'], loc='upper left')\n",
        "plt.show()"
      ],
      "execution_count": 13,
      "outputs": [
        {
          "output_type": "display_data",
          "data": {
            "image/png": "[encoded data removed]",
            "text/plain": [
              "<Figure size 432x288 with 1 Axes>"
            ]
          },
          "metadata": {
            "tags": [],
            "needs_background": "light"
          }
        }
      ]
    },
    {
      "cell_type": "code",
      "metadata": {
        "id": "EVbMZTpKKGAb",
        "colab_type": "code",
        "colab": {
          "base_uri": "https://localhost:8080/",
          "height": 258
        },
        "outputId": "c6c7721f-45a6-41af-ab68-85c45974ea3c"
      },
      "source": [
        "# Adding Embedding layer to the model \n",
        "from keras.layers import Embedding, Flatten\n",
        "from keras.preprocessing.sequence import pad_sequences\n",
        "\n",
        "sentences1 = df['review']\n",
        "\n",
        "max_review_len= max([len(s.split()) for s in sentences1])\n",
        "vocab_size= len(tokenizer.word_index)+1\n",
        "sentences1 = tokenizer.texts_to_sequences(sentences1)\n",
        "padded_docs= pad_sequences(sentences1,maxlen=max_review_len)\n",
        "# Label Encoding the data\n",
        "le = preprocessing.LabelEncoder()\n",
        "y = le.fit_transform(y)\n",
        "X_train, X_test, y_train, y_test = train_test_split(padded_docs, y, test_size=0.25, random_state=1000)\n",
        "# Creating model\n",
        "model1 = Sequential()\n",
        "# Embedding and Flattening\n",
        "model1.add(Embedding(vocab_size, 50, input_length=max_review_len))\n",
        "model1.add(Flatten())\n",
        "model1.add(layers.Dense(300, activation='relu',input_dim=max_review_len))\n",
        "model1.add(layers.Dense(3, activation='softmax'))\n",
        "model1.compile(loss='sparse_categorical_crossentropy',optimizer='adam',metrics=['acc'])\n",
        "history1=model1.fit(X_train,y_train, epochs=5, verbose=True, validation_data=(X_test,y_test), batch_size=256)"
      ],
      "execution_count": 7,
      "outputs": [
        {
          "output_type": "stream",
          "text": [
            "/usr/local/lib/python3.6/dist-packages/tensorflow/python/framework/indexed_slices.py:434: UserWarning: Converting sparse IndexedSlices to a dense Tensor of unknown shape. This may consume a large amount of memory.\n",
            "  \"Converting sparse IndexedSlices to a dense Tensor of unknown shape. \"\n"
          ],
          "name": "stderr"
        },
        {
          "output_type": "stream",
          "text": [
            "Train on 75000 samples, validate on 25000 samples\n",
            "Epoch 1/5\n",
            "75000/75000 [==============================] - 588s 8ms/step - loss: 1.0682 - acc: 0.4958 - val_loss: 0.8747 - val_acc: 0.5001\n",
            "Epoch 2/5\n",
            "75000/75000 [==============================] - 593s 8ms/step - loss: 0.8496 - acc: 0.5165 - val_loss: 0.8431 - val_acc: 0.5005\n",
            "Epoch 3/5\n",
            "75000/75000 [==============================] - 551s 7ms/step - loss: 0.7897 - acc: 0.5754 - val_loss: 0.8467 - val_acc: 0.5042\n",
            "Epoch 4/5\n",
            "75000/75000 [==============================] - 507s 7ms/step - loss: 0.6976 - acc: 0.6613 - val_loss: 0.8912 - val_acc: 0.5004\n",
            "Epoch 5/5\n",
            "75000/75000 [==============================] - 539s 7ms/step - loss: 0.5751 - acc: 0.7445 - val_loss: 1.0049 - val_acc: 0.4939\n"
          ],
          "name": "stdout"
        }
      ]
    },
    {
      "cell_type": "code",
      "metadata": {
        "id": "3FA2_j-KUjOt",
        "colab_type": "code",
        "colab": {
          "base_uri": "https://localhost:8080/",
          "height": 295
        },
        "outputId": "7d49cf37-480f-4f0b-822d-0e974aba4da1"
      },
      "source": [
        "# Plotting loss and accuracy using history object\n",
        "import matplotlib.pyplot as plt\n",
        "plt.plot(history1.history['acc'])\n",
        "plt.plot(history1.history['val_acc'])\n",
        "plt.plot(history1.history['loss'])\n",
        "plt.plot(history1.history['val_loss'])\n",
        "plt.title('model accuracy')\n",
        "plt.ylabel('accuracy')\n",
        "plt.xlabel('epoch')\n",
        "plt.legend(['accuray', 'validation accuracy','loss','validation loss'], loc='upper left')\n",
        "plt.show()"
      ],
      "execution_count": 14,
      "outputs": [
        {
          "output_type": "display_data",
          "data": {
            "image/png": "[encoded data removed]",
            "text/plain": [
              "<Figure size 432x288 with 1 Axes>"
            ]
          },
          "metadata": {
            "tags": [],
            "needs_background": "light"
          }
        }
      ]
    },
    {
      "cell_type": "code",
      "metadata": {
        "id": "pIMLnWa3TCW3",
        "colab_type": "code",
        "colab": {
          "base_uri": "https://localhost:8080/",
          "height": 292
        },
        "outputId": "09a13afa-975e-44ea-ed3f-d2407284c092"
      },
      "source": [
        "# Applying the above functionality for 20newsgroup data \n",
        "from sklearn.datasets import fetch_20newsgroups\n",
        "newsgroups_train = fetch_20newsgroups(subset='train', shuffle=True)\n",
        "sentences2 = newsgroups_train.data\n",
        "y = newsgroups_train.target\n",
        "\n",
        "max_review_len= max([len(s.split()) for s in sentences2])\n",
        "vocab_size= len(tokenizer.word_index)+1\n",
        "sentences2 = tokenizer.texts_to_sequences(sentences2)\n",
        "padded_docs= pad_sequences(sentences2,maxlen=max_review_len)\n",
        "le = preprocessing.LabelEncoder()\n",
        "y = le.fit_transform(y)\n",
        "X_train, X_test, y_train, y_test = train_test_split(padded_docs, y, test_size=0.25, random_state=1000)\n",
        "\n",
        "model2 = Sequential()\n",
        "model2.add(Embedding(vocab_size, 50, input_length=max_review_len))\n",
        "model2.add(Flatten())\n",
        "model2.add(layers.Dense(300, activation='relu',input_dim=max_review_len))\n",
        "model2.add(layers.Dense(20, activation='softmax'))\n",
        "model2.compile(loss='sparse_categorical_crossentropy',optimizer='adam',metrics=['acc'])\n",
        "history2=model2.fit(X_train,y_train, epochs=5, verbose=True, validation_data=(X_test,y_test), batch_size=256)"
      ],
      "execution_count": 10,
      "outputs": [
        {
          "output_type": "stream",
          "text": [
            "Downloading 20news dataset. This may take a few minutes.\n",
            "Downloading dataset from https://ndownloader.figshare.com/files/5975967 (14 MB)\n",
            "/usr/local/lib/python3.6/dist-packages/tensorflow/python/framework/indexed_slices.py:434: UserWarning: Converting sparse IndexedSlices to a dense Tensor of unknown shape. This may consume a large amount of memory.\n",
            "  \"Converting sparse IndexedSlices to a dense Tensor of unknown shape. \"\n"
          ],
          "name": "stderr"
        },
        {
          "output_type": "stream",
          "text": [
            "Train on 8485 samples, validate on 2829 samples\n",
            "Epoch 1/5\n",
            "8485/8485 [==============================] - 327s 39ms/step - loss: 9.6472 - acc: 0.0509 - val_loss: 3.0337 - val_acc: 0.0460\n",
            "Epoch 2/5\n",
            "8485/8485 [==============================] - 335s 39ms/step - loss: 3.0046 - acc: 0.0550 - val_loss: 2.9886 - val_acc: 0.0566\n",
            "Epoch 3/5\n",
            "8485/8485 [==============================] - 330s 39ms/step - loss: 2.9702 - acc: 0.0614 - val_loss: 2.9830 - val_acc: 0.0580\n",
            "Epoch 4/5\n",
            "8485/8485 [==============================] - 328s 39ms/step - loss: 2.9537 - acc: 0.0674 - val_loss: 2.9725 - val_acc: 0.0569\n",
            "Epoch 5/5\n",
            "8485/8485 [==============================] - 330s 39ms/step - loss: 2.9246 - acc: 0.0714 - val_loss: 2.9367 - val_acc: 0.0629\n"
          ],
          "name": "stdout"
        }
      ]
    },
    {
      "cell_type": "code",
      "metadata": {
        "id": "UCWr63WHplVA",
        "colab_type": "code",
        "colab": {
          "base_uri": "https://localhost:8080/",
          "height": 34
        },
        "outputId": "5b6119c8-3924-4893-dc0b-b5c5a86b0cfb"
      },
      "source": [
        "# predicting over the 4th sample data\n",
        "print(\"Actual Value:\",y_test[4],\"Predicted Value\",model2.predict_classes(X_test[[4],:]))"
      ],
      "execution_count": 15,
      "outputs": [
        {
          "output_type": "stream",
          "text": [
            "Actual Value: 4 Predicted Value [11]\n"
          ],
          "name": "stdout"
        }
      ]
    }
  ]
}