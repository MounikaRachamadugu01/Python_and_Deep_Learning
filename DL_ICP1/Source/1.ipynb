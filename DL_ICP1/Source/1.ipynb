{
  "nbformat": 4,
  "nbformat_minor": 0,
  "metadata": {
    "colab": {
      "name": "Untitled1.ipynb",
      "provenance": [],
      "collapsed_sections": []
    },
    "kernelspec": {
      "name": "python3",
      "display_name": "Python 3"
    }
  },
  "cells": [
    {
      "cell_type": "code",
      "metadata": {
        "id": "bLa6LCjKn2hi",
        "colab_type": "code",
        "colab": {}
      },
      "source": [
        "# Use the use case in the class:\n",
        "# Add moreDense layersto the existing code and check howthe accuracy changes.\n",
        "\n",
        "import pandas\n",
        "from keras.models import Sequential\n",
        "from keras.layers.core import Dense, Activation\n",
        "import numpy as np\n",
        "from sklearn.model_selection import train_test_split\n",
        "import pandas as pd\n",
        "\n",
        "# Loading data using pandas\n",
        "dataset = pd.read_csv(\"diabetes.csv\", header=None).values\n",
        "# Split the data\n",
        "X_train, X_test, Y_train, Y_test = train_test_split(dataset[:,0:8], dataset[:,8],\n",
        "                                                    test_size=0.25, random_state=0)\n",
        "np.random.seed(155)\n",
        "# Applying sequentional model\n",
        "my_first_nn = Sequential()\n",
        "# Adding dense layers\n",
        "my_first_nn.add(Dense(20, input_dim=8, activation='relu'))\n",
        "my_first_nn.add(Dense(10, activation='softmax')) \n",
        "my_first_nn.add(Dense(5, activation='softmax')) \n",
        "my_first_nn.add(Dense(2, activation='softmax')) \n",
        "my_first_nn.add(Dense(1, activation='sigmoid')) \n",
        "my_first_nn.compile(loss='binary_crossentropy', optimizer='adam')\n",
        "# Fit the data\n",
        "my_first_nn_fitted = my_first_nn.fit(X_train, Y_train, epochs=100, verbose=0,\n",
        "                                     initial_epoch=0)\n",
        "# Display summary and accuracy\n",
        "print(\"Summary:\",my_first_nn.summary())\n",
        "print(\"Evaluate:\",my_first_nn.evaluate(X_test, Y_test, verbose=0))"
      ],
      "execution_count": null,
      "outputs": []
    }
  ]
}